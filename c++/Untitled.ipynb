{
 "cells": [
  {
   "cell_type": "code",
   "execution_count": 14,
   "metadata": {},
   "outputs": [
    {
     "data": {
      "text/plain": [
       "['((()))', '(()())', '(())()', '()(())', '()()()']"
      ]
     },
     "execution_count": 14,
     "metadata": {},
     "output_type": "execute_result"
    }
   ],
   "source": [
    "class solution:\n",
    "    def __init__(self):\n",
    "        self.ans=[]\n",
    "    def func(self,left,right,s):\n",
    "        if left>0:\n",
    "            self.func(left-1,right,s+\"(\")\n",
    "        if left<right:\n",
    "            self.func(left,right-1,s+\")\")\n",
    "        if left==0 and right==0:\n",
    "            self.ans.append(s)\n",
    "            return\n",
    "        return self.ans\n",
    "        \n",
    "c=solution()\n",
    "c.func(3,3,\"\")"
   ]
  },
  {
   "cell_type": "code",
   "execution_count": 25,
   "metadata": {},
   "outputs": [],
   "source": [
    "class ListNode:\n",
    "    def __init__(self, val=0, next=None):\n",
    "        self.val = val\n",
    "        self.next = next\n",
    "\n",
    "class Solution:\n",
    "    def reverseKGroup(self, head: ListNode, k: int):\n",
    "        node=head\n",
    "        head=0\n",
    "        lis=[]\n",
    "        prev_head=0\n",
    "        prev_tail=0\n",
    "        while node!=None:\n",
    "            if node!=None:\n",
    "                lis.append(node)\n",
    "            node=node.next\n",
    "            if len(lis)==k:\n",
    "                if prev_tail!=0:\n",
    "                    prev_tail.next=lis[-1]\n",
    "                \n",
    "                prev_head,prev_tail=self.reverse(lis[::-1])\n",
    "                if head==0:\n",
    "                    head=prev_head\n",
    "                lis=[]\n",
    "        if len(lis)!=0 and prev_tail!=0:\n",
    "            prev_tail.next=lis[0]\n",
    "        return head\n",
    "        \n",
    "\n",
    "            \n",
    "    def reverse(self,lis):\n",
    "        for i in range(len(lis)-1):\n",
    "            lis[i].next=lis[i+1]\n",
    "        lis[-1].next=None\n",
    "        return lis[0],lis[-1]\n",
    "s=Solution()\n",
    "    \n",
    "head=s.reverseKGroup(nodes[0],2)"
   ]
  },
  {
   "cell_type": "code",
   "execution_count": 23,
   "metadata": {},
   "outputs": [
    {
     "name": "stdout",
     "output_type": "stream",
     "text": [
      "0\n",
      "1\n",
      "2\n",
      "3\n",
      "4\n"
     ]
    }
   ],
   "source": [
    "nodes=[]\n",
    "for i in range(5):\n",
    "    nodes.append(ListNode(i,None))\n",
    "for i in range(4):\n",
    "    nodes[i].next=nodes[i+1]\n",
    "head=nodes[0]\n",
    "while head!=None:\n",
    "    print(head.val)\n",
    "    head=head.next"
   ]
  },
  {
   "cell_type": "code",
   "execution_count": 26,
   "metadata": {},
   "outputs": [
    {
     "name": "stdout",
     "output_type": "stream",
     "text": [
      "1\n",
      "0\n",
      "3\n",
      "2\n",
      "4\n"
     ]
    }
   ],
   "source": [
    "while head!=None:\n",
    "    print(head.val)\n",
    "    head=head.next"
   ]
  },
  {
   "cell_type": "code",
   "execution_count": 31,
   "metadata": {},
   "outputs": [],
   "source": [
    "class Solution:\n",
    "    def nextPermutation(self, nums):\n",
    "        max_val=-1\n",
    "        loc=-1\n",
    "        for i in range(len(nums)-1):\n",
    "            if nums[i]<nums[i+1] and nums[i+1]>max_val:\n",
    "                max_val=nums[i+1]\n",
    "                loc=i+1\n",
    "        if loc==-1:\n",
    "            nums=nums[::-1]\n",
    "        else:\n",
    "            s=nums[loc-1]\n",
    "            l=nums[loc]\n",
    "            nums[loc-1]=l\n",
    "            nums[loc]=s\n",
    "        return nums\n",
    "                \n",
    "s=Solution().nextPermutation([3,2,1])"
   ]
  },
  {
   "cell_type": "code",
   "execution_count": 32,
   "metadata": {},
   "outputs": [
    {
     "data": {
      "text/plain": [
       "[1, 2, 3]"
      ]
     },
     "execution_count": 32,
     "metadata": {},
     "output_type": "execute_result"
    }
   ],
   "source": [
    "# Definition for singly-linked list.\n",
    "# class ListNode:\n",
    "#     def __init__(self, val=0, next=None):\n",
    "#         self.val = val\n",
    "#         self.next = next\n",
    "class Solution:\n",
    "    def mergeTwoLists(self, l1: ListNode, l2: ListNode) -> ListNode:\n",
    "        head=0\n",
    "        if l1.val<l2.val:\n",
    "            head=l1\n",
    "            l1=l1.next\n",
    "        else:\n",
    "            head=l2\n",
    "            l2=l2.next\n",
    "        node=head\n",
    "        while l1.next!=None and l2.next!=None:\n",
    "            if l1.val<l2.val:\n",
    "                node.next=l1\n",
    "                l1=l1.next\n",
    "            else:\n",
    "                node.next=l2\n",
    "                l2=l2.next\n",
    "            node=node.next\n",
    "        while l1.next!=None:\n",
    "            node.next=l1\n",
    "            node=node.next\n",
    "            l1=l1.next\n",
    "        while l2.next!=None:\n",
    "            node.next=l2\n",
    "            node=node.next\n",
    "            l2=l2.next\n",
    "        \n",
    "        return head\n",
    "        \n",
    "            "
   ]
  },
  {
   "cell_type": "code",
   "execution_count": null,
   "metadata": {},
   "outputs": [],
   "source": []
  }
 ],
 "metadata": {
  "kernelspec": {
   "display_name": "Python 3",
   "language": "python",
   "name": "python3"
  },
  "language_info": {
   "codemirror_mode": {
    "name": "ipython",
    "version": 3
   },
   "file_extension": ".py",
   "mimetype": "text/x-python",
   "name": "python",
   "nbconvert_exporter": "python",
   "pygments_lexer": "ipython3",
   "version": "3.7.4"
  }
 },
 "nbformat": 4,
 "nbformat_minor": 2
}
